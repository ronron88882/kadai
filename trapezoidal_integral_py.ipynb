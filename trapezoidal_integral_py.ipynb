{
  "nbformat": 4,
  "nbformat_minor": 0,
  "metadata": {
    "colab": {
      "provenance": [],
      "authorship_tag": "ABX9TyP34SqdejoQ/IWeBXJ00jZ8",
      "include_colab_link": true
    },
    "kernelspec": {
      "name": "python3",
      "display_name": "Python 3"
    },
    "language_info": {
      "name": "python"
    }
  },
  "cells": [
    {
      "cell_type": "markdown",
      "metadata": {
        "id": "view-in-github",
        "colab_type": "text"
      },
      "source": [
        "<a href=\"https://colab.research.google.com/github/ronron88882/kadai/blob/main/trapezoidal_integral_py.ipynb\" target=\"_parent\"><img src=\"https://colab.research.google.com/assets/colab-badge.svg\" alt=\"Open In Colab\"/></a>"
      ]
    },
    {
      "cell_type": "code",
      "source": [
        "import math"
      ],
      "metadata": {
        "id": "MV8tWzg-b51-"
      },
      "execution_count": 2,
      "outputs": []
    },
    {
      "cell_type": "code",
      "execution_count": 1,
      "metadata": {
        "id": "brrulEr-Y0AB"
      },
      "outputs": [],
      "source": [
        "def sekibun(f, a=0, b=1, n=100):\n",
        "    h = (b - a) / n  # 区間幅\n",
        "    result = (f(a) + f(b)) / 2  # 最初と最後の項の合計\n",
        "\n",
        "    for i in range(1, n):\n",
        "        x = a + i * h\n",
        "        result += f(x)\n",
        "\n",
        "    result *= h  # 積分値の計算\n",
        "\n",
        "    return result\n"
      ]
    },
    {
      "cell_type": "code",
      "source": [
        "#(1)\n",
        "def f(x):\n",
        "    return math.sin(x)\n",
        "\n",
        "a = 0\n",
        "b = math.pi / 2\n",
        "n = 50\n",
        "\n",
        "answer = sekibun(f, a, b, n)\n",
        "print(\"積分値:\", answer)"
      ],
      "metadata": {
        "colab": {
          "base_uri": "https://localhost:8080/"
        },
        "id": "he6k0jfUb48T",
        "outputId": "f52b7d37-a8e3-4780-8152-3ec3c910fe03"
      },
      "execution_count": 5,
      "outputs": [
        {
          "output_type": "stream",
          "name": "stdout",
          "text": [
            "積分値: 0.9999177519437218\n"
          ]
        }
      ]
    },
    {
      "cell_type": "code",
      "source": [
        "#(2)\n",
        "def f(x):\n",
        "    return 4/(1+x**2)\n",
        "\n",
        "a = 0\n",
        "b = 1\n",
        "n = 100\n",
        "\n",
        "answer = sekibun(f, a, b, n)\n",
        "print(\"積分値:\", answer)"
      ],
      "metadata": {
        "colab": {
          "base_uri": "https://localhost:8080/"
        },
        "id": "qs_OMgEcbmT6",
        "outputId": "95eca12c-30d3-4f49-d5f4-dd1dd5ff8ec0"
      },
      "execution_count": 8,
      "outputs": [
        {
          "output_type": "stream",
          "name": "stdout",
          "text": [
            "積分値: 3.141575986923129\n"
          ]
        }
      ]
    },
    {
      "cell_type": "code",
      "source": [
        "#(3)\n",
        "def f(x):\n",
        "    return math.sqrt(math.pi) * math.exp(-x**2)\n",
        "\n",
        "a = -100\n",
        "b = 100\n",
        "n = 1000\n",
        "\n",
        "answer = sekibun(f, a, b, n)\n",
        "print(\"積分値:\", answer)"
      ],
      "metadata": {
        "colab": {
          "base_uri": "https://localhost:8080/"
        },
        "id": "ZWuJ9ofeb8Xk",
        "outputId": "3c78d506-50a5-4846-8431-bb8a959992dd"
      },
      "execution_count": 9,
      "outputs": [
        {
          "output_type": "stream",
          "name": "stdout",
          "text": [
            "積分値: 3.1415926535897922\n"
          ]
        }
      ]
    },
    {
      "cell_type": "code",
      "source": [],
      "metadata": {
        "id": "1Bh9OmvCe680"
      },
      "execution_count": null,
      "outputs": []
    }
  ]
}