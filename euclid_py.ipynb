{
  "nbformat": 4,
  "nbformat_minor": 0,
  "metadata": {
    "colab": {
      "provenance": [],
      "authorship_tag": "ABX9TyPnYDq0xQk++qqaxklpCA2J",
      "include_colab_link": true
    },
    "kernelspec": {
      "name": "python3",
      "display_name": "Python 3"
    },
    "language_info": {
      "name": "python"
    }
  },
  "cells": [
    {
      "cell_type": "markdown",
      "metadata": {
        "id": "view-in-github",
        "colab_type": "text"
      },
      "source": [
        "<a href=\"https://colab.research.google.com/github/ronron88882/kadai/blob/main/euclid_py.ipynb\" target=\"_parent\"><img src=\"https://colab.research.google.com/assets/colab-badge.svg\" alt=\"Open In Colab\"/></a>"
      ]
    },
    {
      "cell_type": "code",
      "execution_count": 1,
      "metadata": {
        "id": "Vcd2MU1lfMJ7"
      },
      "outputs": [],
      "source": [
        "def yc(a, b):\n",
        "    while b != 0:\n",
        "        a, b = b, a % b\n",
        "    return a"
      ]
    },
    {
      "cell_type": "code",
      "source": [
        "def sosuu(a, b):\n",
        "    so = yc(a, b)\n",
        "    if so == 1:\n",
        "        return True\n",
        "    else:\n",
        "        return False"
      ],
      "metadata": {
        "id": "8RXW0PGof41f"
      },
      "execution_count": 2,
      "outputs": []
    },
    {
      "cell_type": "code",
      "source": [],
      "metadata": {
        "id": "whLPohzWgCWL"
      },
      "execution_count": null,
      "outputs": []
    }
  ]
}