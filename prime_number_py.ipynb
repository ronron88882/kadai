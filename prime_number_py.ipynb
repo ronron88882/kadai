{
  "nbformat": 4,
  "nbformat_minor": 0,
  "metadata": {
    "colab": {
      "provenance": [],
      "authorship_tag": "ABX9TyM8g59s+vPB1NxLNYqQOVhp",
      "include_colab_link": true
    },
    "kernelspec": {
      "name": "python3",
      "display_name": "Python 3"
    },
    "language_info": {
      "name": "python"
    }
  },
  "cells": [
    {
      "cell_type": "markdown",
      "metadata": {
        "id": "view-in-github",
        "colab_type": "text"
      },
      "source": [
        "<a href=\"https://colab.research.google.com/github/ronron88882/kadai/blob/main/prime_number_py.ipynb\" target=\"_parent\"><img src=\"https://colab.research.google.com/assets/colab-badge.svg\" alt=\"Open In Colab\"/></a>"
      ]
    },
    {
      "cell_type": "code",
      "execution_count": 1,
      "metadata": {
        "colab": {
          "base_uri": "https://localhost:8080/"
        },
        "id": "cpHRDA7NYNop",
        "outputId": "84ea33fa-231d-4dd2-f398-531dedf96196"
      },
      "outputs": [
        {
          "output_type": "stream",
          "name": "stdout",
          "text": [
            "自然数: 34\n",
            "34 ×\n"
          ]
        }
      ],
      "source": [
        "def prime(n):\n",
        "    if n < 2:\n",
        "        return False\n",
        "    for i in range(2, round(n**0.5) + 1):\n",
        "        if n % i == 0:\n",
        "            return False\n",
        "    return True\n",
        "\n",
        "# 素数判定のテスト\n",
        "n = int(input(\"自然数: \"))\n",
        "if prime(n):\n",
        "    print(n, \"○\")\n",
        "else:\n",
        "    print(n, \"×\")\n"
      ]
    },
    {
      "cell_type": "code",
      "source": [],
      "metadata": {
        "id": "y8wB16IoWrgJ"
      },
      "execution_count": 1,
      "outputs": []
    }
  ]
}