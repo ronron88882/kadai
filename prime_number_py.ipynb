{
  "nbformat": 4,
  "nbformat_minor": 0,
  "metadata": {
    "colab": {
      "provenance": []
    },
    "kernelspec": {
      "name": "python3",
      "display_name": "Python 3"
    },
    "language_info": {
      "name": "python"
    }
  },
  "cells": [
    {
      "cell_type": "code",
      "execution_count": 6,
      "metadata": {
        "colab": {
          "base_uri": "https://localhost:8080/"
        },
        "id": "EymoxQHV5Yoa",
        "outputId": "fa131394-a972-4afb-e69b-4d675ca2c0f0"
      },
      "outputs": [
        {
          "output_type": "stream",
          "name": "stdout",
          "text": [
            "61 は素数です。\n"
          ]
        }
      ],
      "source": [
        "n = 61\n",
        "prime = True\n",
        "\n",
        "if n < 2:\n",
        "    prime = False\n",
        "else:\n",
        "    for i in range(2, int(n ** 0.5) + 1):\n",
        "        if n % i == 0:\n",
        "            prime = False\n",
        "            break\n",
        "\n",
        "if prime:\n",
        "    print(n, \"は素数です。\")\n",
        "else:\n",
        "    print(n, \"は素数ではありません。\")\n"
      ]
    },
    {
      "cell_type": "code",
      "source": [
        "m =10\n",
        "prime = True\n",
        "\n",
        "if n < 2:\n",
        "    prime = False\n",
        "else:\n",
        "    for i in range(2, int(m ** 0.5) + 1):\n",
        "        if m % i == 0:\n",
        "            prime = False\n",
        "            break\n",
        "\n",
        "if prime:\n",
        "    print(m, \"は素数です。\")\n",
        "else:\n",
        "    print(m, \"は素数ではありません。\")"
      ],
      "metadata": {
        "colab": {
          "base_uri": "https://localhost:8080/"
        },
        "id": "-ZVrYIdLE7sO",
        "outputId": "a53bd943-3f44-4927-f18a-ad1683da6fd7"
      },
      "execution_count": 5,
      "outputs": [
        {
          "output_type": "stream",
          "name": "stdout",
          "text": [
            "10 は素数ではありません。\n"
          ]
        }
      ]
    },
    {
      "cell_type": "code",
      "source": [],
      "metadata": {
        "id": "qi48qAaLGiXa"
      },
      "execution_count": null,
      "outputs": []
    }
  ]
}